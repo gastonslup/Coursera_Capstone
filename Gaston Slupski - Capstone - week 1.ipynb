{
    "nbformat_minor": 1, 
    "cells": [
        {
            "source": "# Casptone Project - Week 1, Gaston Slupski", 
            "cell_type": "markdown", 
            "metadata": {
                "collapsed": true
            }
        }, 
        {
            "source": "## Introduction/Business Problem", 
            "cell_type": "markdown", 
            "metadata": {}
        }, 
        {
            "source": "Let's assume that a fast food chain called \"Wenzy's\" is coming to town; Toronto, Canada. The management is asking me to locate the ideal location to their first restaraunt to be open.", 
            "cell_type": "markdown", 
            "metadata": {}
        }, 
        {
            "source": "They need a place that will generate fast profits, without worrying about their marketing costs in advertising and retention. Basically, they are asking for a high dense-populated area.", 
            "cell_type": "markdown", 
            "metadata": {}
        }, 
        {
            "source": "So the main question in this project would be: What is the best location to open the first \"Wenzy's\"?", 
            "cell_type": "markdown", 
            "metadata": {}
        }, 
        {
            "source": "For this, we need to understand that there should be a location that:", 
            "cell_type": "markdown", 
            "metadata": {}
        }, 
        {
            "source": "1. Has a hgh-dense population, preferably sorrounded by offices and stores", 
            "cell_type": "markdown", 
            "metadata": {}
        }, 
        {
            "source": "2. There is a high percentage of people that like/prefer fast food", 
            "cell_type": "markdown", 
            "metadata": {}
        }, 
        {
            "source": "3. There is not a high level of competition with other fast food chains", 
            "cell_type": "markdown", 
            "metadata": {}
        }, 
        {
            "source": "Having this elements in perspective, we would proceed to analyze the required data for this project.", 
            "cell_type": "markdown", 
            "metadata": {}
        }
    ], 
    "metadata": {
        "kernelspec": {
            "display_name": "Python 3.5", 
            "name": "python3", 
            "language": "python"
        }, 
        "language_info": {
            "mimetype": "text/x-python", 
            "nbconvert_exporter": "python", 
            "version": "3.5.5", 
            "name": "python", 
            "file_extension": ".py", 
            "pygments_lexer": "ipython3", 
            "codemirror_mode": {
                "version": 3, 
                "name": "ipython"
            }
        }
    }, 
    "nbformat": 4
}