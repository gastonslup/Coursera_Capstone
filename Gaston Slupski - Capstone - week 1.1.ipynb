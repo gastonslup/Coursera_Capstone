{
    "nbformat_minor": 1, 
    "cells": [
        {
            "source": "## Casptone Project - Week 1, Gaston Slupski", 
            "cell_type": "markdown", 
            "metadata": {
                "collapsed": true
            }
        }, 
        {
            "source": "## Data Section", 
            "cell_type": "markdown", 
            "metadata": {}
        }, 
        {
            "source": "In order to develop our project, we would need to collect different kind of data from various sources. Between this data, we would need:", 
            "cell_type": "markdown", 
            "metadata": {}
        }, 
        {
            "source": "1. A list of neighborhoods from Toronto, Canada; taken from a Wikipedia article", 
            "cell_type": "markdown", 
            "metadata": {}
        }, 
        {
            "source": "2. A list of geospatial coordinates (latitude, longitude) for each neighborhood in Toronto, Canada; taken from Cognitive Class' website", 
            "cell_type": "markdown", 
            "metadata": {}
        }, 
        {
            "source": "3. Data on all the venues' categories of Toronto, Canada; taken from a Foursquare's API", 
            "cell_type": "markdown", 
            "metadata": {}
        }, 
        {
            "source": "At first, we will parsed through the Wikipedia atricle, to retrieve the relevant list of neighborhoods. Once we have the neighborhoods, we will merge them with the Cognitive Class' list on coordinates.", 
            "cell_type": "markdown", 
            "metadata": {}
        }, 
        {
            "execution_count": null, 
            "cell_type": "code", 
            "metadata": {}, 
            "outputs": [], 
            "source": "This will give us a complete list of neighborhoods with their proper coordinates."
        }, 
        {
            "execution_count": null, 
            "cell_type": "code", 
            "metadata": {}, 
            "outputs": [], 
            "source": "Moreover, we will take the Foursquare's data on the venues' categorie"
        }, 
        {
            "execution_count": null, 
            "cell_type": "code", 
            "metadata": {}, 
            "outputs": [], 
            "source": "With all these 3 data sources, we would be able to combine the relevant information to proceed with the modeling of our data."
        }
    ], 
    "metadata": {
        "kernelspec": {
            "display_name": "Python 3.5", 
            "name": "python3", 
            "language": "python"
        }, 
        "language_info": {
            "mimetype": "text/x-python", 
            "nbconvert_exporter": "python", 
            "version": "3.5.5", 
            "name": "python", 
            "file_extension": ".py", 
            "pygments_lexer": "ipython3", 
            "codemirror_mode": {
                "version": 3, 
                "name": "ipython"
            }
        }
    }, 
    "nbformat": 4
}